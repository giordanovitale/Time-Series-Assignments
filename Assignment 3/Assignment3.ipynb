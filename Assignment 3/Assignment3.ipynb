{
 "cells": [
  {
   "cell_type": "markdown",
   "metadata": {},
   "source": [
    "# **ASSIGNMENT 3**"
   ]
  },
  {
   "cell_type": "markdown",
   "metadata": {},
   "source": [
    "**Task**: forecast the real price of gasoline for the US.\n",
    "\n",
    "**Dataset**: gasoline.xlsx contains two monthly time series. The nominal price of gasoline and the CPI. \n"
   ]
  },
  {
   "cell_type": "code",
   "execution_count": 59,
   "metadata": {},
   "outputs": [],
   "source": [
    "import pandas as pd\n",
    "import numpy as np\n",
    "import matplotlib.pyplot as plt\n",
    "from fredapi import Fred\n",
    "import seaborn as sns\n",
    "\n",
    "pd.set_option('display.max_columns', 500)\n",
    "pd.set_option('display.max_rows', 40)\n",
    "pd.set_option(\"display.precision\", 2)"
   ]
  },
  {
   "cell_type": "code",
   "execution_count": 62,
   "metadata": {},
   "outputs": [
    {
     "data": {
      "text/html": [
       "<div>\n",
       "<style scoped>\n",
       "    .dataframe tbody tr th:only-of-type {\n",
       "        vertical-align: middle;\n",
       "    }\n",
       "\n",
       "    .dataframe tbody tr th {\n",
       "        vertical-align: top;\n",
       "    }\n",
       "\n",
       "    .dataframe thead th {\n",
       "        text-align: right;\n",
       "    }\n",
       "</style>\n",
       "<table border=\"1\" class=\"dataframe\">\n",
       "  <thead>\n",
       "    <tr style=\"text-align: right;\">\n",
       "      <th></th>\n",
       "      <th>Time</th>\n",
       "      <th>CPI</th>\n",
       "      <th>Nominal_Price</th>\n",
       "    </tr>\n",
       "  </thead>\n",
       "  <tbody>\n",
       "    <tr>\n",
       "      <th>11</th>\n",
       "      <td>1990-11-01</td>\n",
       "      <td>1.32</td>\n",
       "      <td>133.7</td>\n",
       "    </tr>\n",
       "    <tr>\n",
       "      <th>12</th>\n",
       "      <td>1990-12-01</td>\n",
       "      <td>1.34</td>\n",
       "      <td>134.2</td>\n",
       "    </tr>\n",
       "    <tr>\n",
       "      <th>13</th>\n",
       "      <td>1991-01-01</td>\n",
       "      <td>1.18</td>\n",
       "      <td>134.7</td>\n",
       "    </tr>\n",
       "    <tr>\n",
       "      <th>14</th>\n",
       "      <td>1991-02-01</td>\n",
       "      <td>1.09</td>\n",
       "      <td>134.8</td>\n",
       "    </tr>\n",
       "    <tr>\n",
       "      <th>15</th>\n",
       "      <td>1991-03-01</td>\n",
       "      <td>1.04</td>\n",
       "      <td>134.8</td>\n",
       "    </tr>\n",
       "  </tbody>\n",
       "</table>\n",
       "</div>"
      ],
      "text/plain": [
       "         Time   CPI Nominal_Price\n",
       "11 1990-11-01  1.32         133.7\n",
       "12 1990-12-01  1.34         134.2\n",
       "13 1991-01-01  1.18         134.7\n",
       "14 1991-02-01  1.09         134.8\n",
       "15 1991-03-01  1.04         134.8"
      ]
     },
     "execution_count": 62,
     "metadata": {},
     "output_type": "execute_result"
    }
   ],
   "source": [
    "gasoline = pd.read_excel('gasoline.xls')\n",
    "\n",
    "# rename the columns\n",
    "gasoline.rename(columns=\n",
    "                {'Unnamed: 1': 'CPI',\n",
    "                 'Unnamed: 2': 'Nominal_Price',\n",
    "                 'FRED Graph Observations': 'Time'},\n",
    "                 inplace = True)\n",
    "\n",
    "# convert to datetime\n",
    "gasoline['Time'] = pd.to_datetime(gasoline['Time'], errors = 'coerce')\n",
    "\n",
    "# remove the unnecessary descriptions\n",
    "gasoline = gasoline.query(\"Time >= '1990-11-01'\")\n",
    "\n",
    "gasoline.head()"
   ]
  },
  {
   "cell_type": "code",
   "execution_count": null,
   "metadata": {},
   "outputs": [],
   "source": []
  }
 ],
 "metadata": {
  "kernelspec": {
   "display_name": "Python 3",
   "language": "python",
   "name": "python3"
  },
  "language_info": {
   "codemirror_mode": {
    "name": "ipython",
    "version": 3
   },
   "file_extension": ".py",
   "mimetype": "text/x-python",
   "name": "python",
   "nbconvert_exporter": "python",
   "pygments_lexer": "ipython3",
   "version": "3.11.2"
  }
 },
 "nbformat": 4,
 "nbformat_minor": 2
}
